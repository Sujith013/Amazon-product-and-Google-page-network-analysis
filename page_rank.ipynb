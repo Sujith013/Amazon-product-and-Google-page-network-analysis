{
  "cells": [
    {
      "cell_type": "markdown",
      "metadata": {
        "id": "WzmEpDEmQUlQ"
      },
      "source": [
        "# **SIN JCOMP - Analysis of Amazon products and Google Pages network**"
      ]
    },
    {
      "cell_type": "markdown",
      "metadata": {
        "id": "gjTd7DyaQUlU"
      },
      "source": [
        "**Import the required libraries**"
      ]
    },
    {
      "cell_type": "code",
      "execution_count": 1,
      "metadata": {
        "id": "ahy8Gg4GQUlV"
      },
      "outputs": [],
      "source": [
        "import networkx as nx\n",
        "import matplotlib.pyplot as plt\n",
        "import random"
      ]
    },
    {
      "cell_type": "markdown",
      "metadata": {
        "id": "_OelWXWcQUlW"
      },
      "source": [
        "**Read the network graphs**"
      ]
    },
    {
      "cell_type": "code",
      "execution_count": 9,
      "metadata": {
        "id": "muLX3NTbQUlW"
      },
      "outputs": [],
      "source": [
        "amzNet = nx.read_adjlist(\"amazon-py.txt\")\n",
        "amzNet_new = nx.Graph()"
      ]
    },
    {
      "cell_type": "code",
      "execution_count": 10,
      "metadata": {},
      "outputs": [
        {
          "name": "stdout",
          "output_type": "stream",
          "text": [
            "Graph with 10 nodes and 18 edges\n"
          ]
        }
      ],
      "source": [
        "for i in nx.edges(amzNet):\n",
        "    if int(i[0]) <10 and int(i[1])<10:\n",
        "        amzNet_new.add_edge(i[0],i[1])\n",
        "\n",
        "amzNet = amzNet_new\n",
        "print(amzNet)"
      ]
    },
    {
      "cell_type": "markdown",
      "metadata": {
        "id": "UJoiiLGtQUlW"
      },
      "source": [
        "**Get the edges**"
      ]
    },
    {
      "cell_type": "code",
      "execution_count": 12,
      "metadata": {
        "id": "zRfFGxygQUlX"
      },
      "outputs": [
        {
          "name": "stdout",
          "output_type": "stream",
          "text": [
            "[('0', '1'), ('0', '2'), ('0', '3'), ('0', '4'), ('0', '5'), ('1', '2'), ('1', '4'), ('1', '5'), ('4', '7'), ('5', '6'), ('5', '7'), ('5', '8'), ('5', '9'), ('7', '6'), ('7', '8'), ('7', '9'), ('6', '8'), ('6', '9')]\n"
          ]
        }
      ],
      "source": [
        "A_edges = list(nx.edges(amzNet))\n",
        "print(A_edges)"
      ]
    },
    {
      "cell_type": "code",
      "execution_count": 13,
      "metadata": {
        "id": "nG8K56f8U5sI"
      },
      "outputs": [
        {
          "name": "stdout",
          "output_type": "stream",
          "text": [
            "['0', '1', '2', '3', '4', '5', '7', '6', '8', '9']\n"
          ]
        }
      ],
      "source": [
        "A_nodes = list(nx.nodes(amzNet))\n",
        "print(A_nodes)"
      ]
    },
    {
      "cell_type": "code",
      "execution_count": 28,
      "metadata": {},
      "outputs": [],
      "source": [
        "products = [(0,\"mobile\",70000),(1,\"laptop\",89000),(2,\"pendrive\",1700),(3,\"mouse\",800),(4,\"keyboard\",1200),\n",
        "(5,\"mouse_pad\",250),(6,\"charger\",540),(7,\"airpods\",25000),(8,\"extension_chord\",3000),(9,\"Hard_disk\",5400)]"
      ]
    },
    {
      "attachments": {},
      "cell_type": "markdown",
      "metadata": {
        "id": "bFs1rnIlQUlZ"
      },
      "source": [
        "# **Page Rank Calculation**"
      ]
    },
    {
      "cell_type": "code",
      "execution_count": 26,
      "metadata": {},
      "outputs": [
        {
          "name": "stdout",
          "output_type": "stream",
          "text": [
            "[('5', 0.1542), ('0', 0.1463), ('7', 0.1294), ('1', 0.1132), ('6', 0.1048), ('4', 0.0859), ('8', 0.0811), ('9', 0.0811), ('2', 0.0639), ('3', 0.0399)]\n"
          ]
        }
      ],
      "source": [
        "page_rank = nx.pagerank(amzNet,alpha=0.85)\n",
        "l = []\n",
        "temp = []\n",
        "\n",
        "for i in page_rank:\n",
        "    temp = []\n",
        "    temp.append(i)\n",
        "    temp.append(round(page_rank[i],4))\n",
        "\n",
        "    l.append(tuple(temp))\n",
        "\n",
        "l.sort(key = lambda x:x[1],reverse=True)\n",
        "print(l)"
      ]
    },
    {
      "attachments": {},
      "cell_type": "markdown",
      "metadata": {},
      "source": [
        "# **Writing to File**"
      ]
    },
    {
      "cell_type": "code",
      "execution_count": 33,
      "metadata": {},
      "outputs": [],
      "source": [
        "f = open(\"values.txt\",\"w\")\n",
        "\n",
        "for i in l:\n",
        "    f.write(i[0]+\" \"+products[int(i[0])][1]+\" \"+str(i[1])+\" \"+str(products[int(i[0])][2])+\"\\n\")\n",
        "\n",
        "for i in A_edges:\n",
        "    f.write(i[0]+\" \"+i[1]+\"\\n\")"
      ]
    }
  ],
  "metadata": {
    "colab": {
      "provenance": []
    },
    "gpuClass": "standard",
    "kernelspec": {
      "display_name": "Python 3.10.4 64-bit",
      "language": "python",
      "name": "python3"
    },
    "language_info": {
      "codemirror_mode": {
        "name": "ipython",
        "version": 3
      },
      "file_extension": ".py",
      "mimetype": "text/x-python",
      "name": "python",
      "nbconvert_exporter": "python",
      "pygments_lexer": "ipython3",
      "version": "3.10.2"
    },
    "vscode": {
      "interpreter": {
        "hash": "8fff43dade2e40ca38b09b8fc9bddda6d15e9b8bc2eabe7952aa44ab1e00d2e2"
      }
    }
  },
  "nbformat": 4,
  "nbformat_minor": 0
}
